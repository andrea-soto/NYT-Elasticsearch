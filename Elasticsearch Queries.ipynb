{
 "cells": [
  {
   "cell_type": "markdown",
   "metadata": {},
   "source": [
    "# Sample Elasticsearch Queries\n",
    "\n",
    "*Query date: Wed, April 6, 2016*"
   ]
  },
  {
   "cell_type": "markdown",
   "metadata": {},
   "source": [
    "### Query 1 : Count Documents by Index Type (Article, Blog, Interactive, Slideshare, or Video)"
   ]
  },
  {
   "cell_type": "code",
   "execution_count": 2,
   "metadata": {
    "collapsed": false
   },
   "outputs": [
    {
     "name": "stdout",
     "output_type": "stream",
     "text": [
      "{\n",
      "  \"took\" : 3,\n",
      "  \"timed_out\" : false,\n",
      "  \"_shards\" : {\n",
      "    \"total\" : 5,\n",
      "    \"successful\" : 5,\n",
      "    \"failed\" : 0\n",
      "  },\n",
      "  \"hits\" : {\n",
      "    \"total\" : 32663,\n",
      "    \"max_score\" : 0.0,\n",
      "    \"hits\" : [ ]\n",
      "  },\n",
      "  \"aggregations\" : {\n",
      "    \"count_by_type\" : {\n",
      "      \"doc_count_error_upper_bound\" : 0,\n",
      "      \"sum_other_doc_count\" : 0,\n",
      "      \"buckets\" : [ {\n",
      "        \"key\" : \"Article\",\n",
      "        \"doc_count\" : 25519\n",
      "      }, {\n",
      "        \"key\" : \"Blog\",\n",
      "        \"doc_count\" : 4194\n",
      "      }, {\n",
      "        \"key\" : \"Slideshow\",\n",
      "        \"doc_count\" : 1232\n",
      "      }, {\n",
      "        \"key\" : \"Interactive\",\n",
      "        \"doc_count\" : 1219\n",
      "      }, {\n",
      "        \"key\" : \"Video\",\n",
      "        \"doc_count\" : 499\n",
      "      } ]\n",
      "    }\n",
      "  }\n",
      "}\n"
     ]
    },
    {
     "name": "stderr",
     "output_type": "stream",
     "text": [
      "  % Total    % Received % Xferd  Average Speed   Time    Time     Time  Current\n",
      "                                 Dload  Upload   Total   Spent    Left  Speed\n",
      "\r",
      "  0     0    0     0    0     0      0      0 --:--:-- --:--:-- --:--:--     0\r",
      "100   756  100   673  100    83  11207   1382 --:--:-- --:--:-- --:--:-- 11406\n"
     ]
    }
   ],
   "source": [
    "%%bash\n",
    "curl -XPOST \"$ELASTICSEARCH_HOST:9200/nytimes/_search?search_type=count&pretty\" -d '\n",
    "{ \"aggs\": { \n",
    "    \"count_by_type\": {\n",
    "        \"terms\": { \"field\": \"_type\" }\n",
    "    }\n",
    "}}'"
   ]
  },
  {
   "cell_type": "markdown",
   "metadata": {},
   "source": [
    "### Query 2 : Count Documents by Section"
   ]
  },
  {
   "cell_type": "code",
   "execution_count": 3,
   "metadata": {
    "collapsed": false
   },
   "outputs": [
    {
     "name": "stdout",
     "output_type": "stream",
     "text": [
      "{\n",
      "  \"took\" : 7,\n",
      "  \"timed_out\" : false,\n",
      "  \"_shards\" : {\n",
      "    \"total\" : 5,\n",
      "    \"successful\" : 5,\n",
      "    \"failed\" : 0\n",
      "  },\n",
      "  \"hits\" : {\n",
      "    \"total\" : 32673,\n",
      "    \"max_score\" : 0.0,\n",
      "    \"hits\" : [ ]\n",
      "  },\n",
      "  \"aggregations\" : {\n",
      "    \"by_section\" : {\n",
      "      \"doc_count_error_upper_bound\" : 3,\n",
      "      \"sum_other_doc_count\" : 12955,\n",
      "      \"buckets\" : [ {\n",
      "        \"key\" : \"u.s\",\n",
      "        \"doc_count\" : 4581\n",
      "      }, {\n",
      "        \"key\" : \"sports\",\n",
      "        \"doc_count\" : 3650\n",
      "      }, {\n",
      "        \"key\" : \"world\",\n",
      "        \"doc_count\" : 3523\n",
      "      }, {\n",
      "        \"key\" : \"opinion\",\n",
      "        \"doc_count\" : 2958\n",
      "      }, {\n",
      "        \"key\" : \"arts\",\n",
      "        \"doc_count\" : 2869\n",
      "      }, {\n",
      "        \"key\" : \"business\",\n",
      "        \"doc_count\" : 2691\n",
      "      }, {\n",
      "        \"key\" : \"day\",\n",
      "        \"doc_count\" : 2691\n",
      "      }, {\n",
      "        \"key\" : \"n.y\",\n",
      "        \"doc_count\" : 2187\n",
      "      }, {\n",
      "        \"key\" : \"region\",\n",
      "        \"doc_count\" : 2187\n",
      "      }, {\n",
      "        \"key\" : \"style\",\n",
      "        \"doc_count\" : 1551\n",
      "      } ]\n",
      "    }\n",
      "  }\n",
      "}\n"
     ]
    },
    {
     "name": "stderr",
     "output_type": "stream",
     "text": [
      "  % Total    % Received % Xferd  Average Speed   Time    Time     Time  Current\n",
      "                                 Dload  Upload   Total   Spent    Left  Speed\n",
      "\r",
      "  0     0    0     0    0     0      0      0 --:--:-- --:--:-- --:--:--     0\r",
      "100  1050  100   978  100    72  15107   1112 --:--:-- --:--:-- --:--:-- 15281\n"
     ]
    }
   ],
   "source": [
    "%%bash\n",
    "curl -XPOST \"$ELASTICSEARCH_HOST:9200/nytimes/_search?search_type=count&pretty\" -d '\n",
    "{ \"aggs\": {\n",
    "    \"by_section\": { \"terms\": { \"field\": \"section\" } }\n",
    "  }\n",
    "}'"
   ]
  },
  {
   "cell_type": "markdown",
   "metadata": {},
   "source": [
    "### Query 3 : Weekly Count of Documents by Published Date"
   ]
  },
  {
   "cell_type": "code",
   "execution_count": 4,
   "metadata": {
    "collapsed": false
   },
   "outputs": [
    {
     "name": "stdout",
     "output_type": "stream",
     "text": [
      "{\n",
      "  \"took\" : 6,\n",
      "  \"timed_out\" : false,\n",
      "  \"_shards\" : {\n",
      "    \"total\" : 5,\n",
      "    \"successful\" : 5,\n",
      "    \"failed\" : 0\n",
      "  },\n",
      "  \"hits\" : {\n",
      "    \"total\" : 32677,\n",
      "    \"max_score\" : 0.0,\n",
      "    \"hits\" : [ ]\n",
      "  },\n",
      "  \"aggregations\" : {\n",
      "    \"weekly_count\" : {\n",
      "      \"buckets\" : [ {\n",
      "        \"key_as_string\" : \"2015-11-09T00:00:00.000Z\",\n",
      "        \"key\" : 1447027200000,\n",
      "        \"doc_count\" : 1167\n",
      "      }, {\n",
      "        \"key_as_string\" : \"2015-11-16T00:00:00.000Z\",\n",
      "        \"key\" : 1447632000000,\n",
      "        \"doc_count\" : 1512\n",
      "      }, {\n",
      "        \"key_as_string\" : \"2015-11-23T00:00:00.000Z\",\n",
      "        \"key\" : 1448236800000,\n",
      "        \"doc_count\" : 1326\n",
      "      }, {\n",
      "        \"key_as_string\" : \"2015-11-30T00:00:00.000Z\",\n",
      "        \"key\" : 1448841600000,\n",
      "        \"doc_count\" : 1573\n",
      "      }, {\n",
      "        \"key_as_string\" : \"2015-12-07T00:00:00.000Z\",\n",
      "        \"key\" : 1449446400000,\n",
      "        \"doc_count\" : 1597\n",
      "      }, {\n",
      "        \"key_as_string\" : \"2015-12-14T00:00:00.000Z\",\n",
      "        \"key\" : 1450051200000,\n",
      "        \"doc_count\" : 1722\n",
      "      }, {\n",
      "        \"key_as_string\" : \"2015-12-21T00:00:00.000Z\",\n",
      "        \"key\" : 1450656000000,\n",
      "        \"doc_count\" : 1171\n",
      "      }, {\n",
      "        \"key_as_string\" : \"2015-12-28T00:00:00.000Z\",\n",
      "        \"key\" : 1451260800000,\n",
      "        \"doc_count\" : 1140\n",
      "      }, {\n",
      "        \"key_as_string\" : \"2016-01-04T00:00:00.000Z\",\n",
      "        \"key\" : 1451865600000,\n",
      "        \"doc_count\" : 1546\n",
      "      }, {\n",
      "        \"key_as_string\" : \"2016-01-11T00:00:00.000Z\",\n",
      "        \"key\" : 1452470400000,\n",
      "        \"doc_count\" : 1626\n",
      "      }, {\n",
      "        \"key_as_string\" : \"2016-01-18T00:00:00.000Z\",\n",
      "        \"key\" : 1453075200000,\n",
      "        \"doc_count\" : 1580\n",
      "      }, {\n",
      "        \"key_as_string\" : \"2016-01-25T00:00:00.000Z\",\n",
      "        \"key\" : 1453680000000,\n",
      "        \"doc_count\" : 1664\n",
      "      }, {\n",
      "        \"key_as_string\" : \"2016-02-01T00:00:00.000Z\",\n",
      "        \"key\" : 1454284800000,\n",
      "        \"doc_count\" : 1685\n",
      "      }, {\n",
      "        \"key_as_string\" : \"2016-02-08T00:00:00.000Z\",\n",
      "        \"key\" : 1454889600000,\n",
      "        \"doc_count\" : 1683\n",
      "      }, {\n",
      "        \"key_as_string\" : \"2016-02-15T00:00:00.000Z\",\n",
      "        \"key\" : 1455494400000,\n",
      "        \"doc_count\" : 1614\n",
      "      }, {\n",
      "        \"key_as_string\" : \"2016-02-22T00:00:00.000Z\",\n",
      "        \"key\" : 1456099200000,\n",
      "        \"doc_count\" : 1655\n",
      "      }, {\n",
      "        \"key_as_string\" : \"2016-02-29T00:00:00.000Z\",\n",
      "        \"key\" : 1456704000000,\n",
      "        \"doc_count\" : 1740\n",
      "      }, {\n",
      "        \"key_as_string\" : \"2016-03-07T00:00:00.000Z\",\n",
      "        \"key\" : 1457308800000,\n",
      "        \"doc_count\" : 1580\n",
      "      }, {\n",
      "        \"key_as_string\" : \"2016-03-14T00:00:00.000Z\",\n",
      "        \"key\" : 1457913600000,\n",
      "        \"doc_count\" : 1643\n",
      "      }, {\n",
      "        \"key_as_string\" : \"2016-03-21T00:00:00.000Z\",\n",
      "        \"key\" : 1458518400000,\n",
      "        \"doc_count\" : 1453\n",
      "      }, {\n",
      "        \"key_as_string\" : \"2016-03-28T00:00:00.000Z\",\n",
      "        \"key\" : 1459123200000,\n",
      "        \"doc_count\" : 1423\n",
      "      }, {\n",
      "        \"key_as_string\" : \"2016-04-04T00:00:00.000Z\",\n",
      "        \"key\" : 1459728000000,\n",
      "        \"doc_count\" : 574\n",
      "      }, {\n",
      "        \"key_as_string\" : \"2016-04-11T00:00:00.000Z\",\n",
      "        \"key\" : 1460332800000,\n",
      "        \"doc_count\" : 2\n",
      "      }, {\n",
      "        \"key_as_string\" : \"2016-04-18T00:00:00.000Z\",\n",
      "        \"key\" : 1460937600000,\n",
      "        \"doc_count\" : 1\n",
      "      } ]\n",
      "    }\n",
      "  }\n",
      "}\n"
     ]
    },
    {
     "name": "stderr",
     "output_type": "stream",
     "text": [
      "  % Total    % Received % Xferd  Average Speed   Time    Time     Time  Current\n",
      "                                 Dload  Upload   Total   Spent    Left  Speed\n",
      "\r",
      "  0     0    0     0    0     0      0      0 --:--:-- --:--:-- --:--:--     0\r",
      " 44  3359   42  1360  100   142  21430   2237 --:--:-- --:--:-- --:--:-- 21250\r",
      "100  3359  100  3217  100   142  49057   2165 --:--:-- --:--:-- --:--:-- 48742\n"
     ]
    }
   ],
   "source": [
    "%%bash\n",
    "curl -XPOST \"$ELASTICSEARCH_HOST:9200/nytimes/_search?search_type=count&pretty\" -d '\n",
    "{ \"aggs\": {\n",
    "    \"weekly_count\": {\n",
    "      \"date_histogram\": {\n",
    "        \"field\": \"published_date\",\n",
    "        \"interval\": \"week\"\n",
    "      }\n",
    "    }\n",
    "  }\n",
    "}'"
   ]
  },
  {
   "cell_type": "markdown",
   "metadata": {},
   "source": [
    "### Query 4 : Common Terms In NYT Blog Names"
   ]
  },
  {
   "cell_type": "code",
   "execution_count": 5,
   "metadata": {
    "collapsed": false
   },
   "outputs": [
    {
     "name": "stdout",
     "output_type": "stream",
     "text": [
      "{\n",
      "  \"took\" : 3,\n",
      "  \"timed_out\" : false,\n",
      "  \"_shards\" : {\n",
      "    \"total\" : 5,\n",
      "    \"successful\" : 5,\n",
      "    \"failed\" : 0\n",
      "  },\n",
      "  \"hits\" : {\n",
      "    \"total\" : 32687,\n",
      "    \"max_score\" : 0.0,\n",
      "    \"hits\" : [ ]\n",
      "  },\n",
      "  \"aggregations\" : {\n",
      "    \"blog_terms\" : {\n",
      "      \"doc_count_error_upper_bound\" : 0,\n",
      "      \"sum_other_doc_count\" : 1861,\n",
      "      \"buckets\" : [ {\n",
      "        \"key\" : \"draft\",\n",
      "        \"doc_count\" : 1291\n",
      "      }, {\n",
      "        \"key\" : \"first\",\n",
      "        \"doc_count\" : 1291\n",
      "      }, {\n",
      "        \"key\" : \"artsbeat\",\n",
      "        \"doc_count\" : 487\n",
      "      }, {\n",
      "        \"key\" : \"the\",\n",
      "        \"doc_count\" : 414\n",
      "      }, {\n",
      "        \"key\" : \"learning\",\n",
      "        \"doc_count\" : 381\n",
      "      }, {\n",
      "        \"key\" : \"network\",\n",
      "        \"doc_count\" : 381\n",
      "      }, {\n",
      "        \"key\" : \"well\",\n",
      "        \"doc_count\" : 317\n",
      "      }, {\n",
      "        \"key\" : \"iht\",\n",
      "        \"doc_count\" : 266\n",
      "      }, {\n",
      "        \"key\" : \"retrospective\",\n",
      "        \"doc_count\" : 266\n",
      "      }, {\n",
      "        \"key\" : \"note\",\n",
      "        \"doc_count\" : 238\n",
      "      } ]\n",
      "    }\n",
      "  }\n",
      "}\n"
     ]
    },
    {
     "name": "stderr",
     "output_type": "stream",
     "text": [
      "  % Total    % Received % Xferd  Average Speed   Time    Time     Time  Current\n",
      "                                 Dload  Upload   Total   Spent    Left  Speed\n",
      "\r",
      "  0     0    0     0    0     0      0      0 --:--:-- --:--:-- --:--:--     0\r",
      "100  1064  100   979  100    85  16303   1415 --:--:-- --:--:-- --:--:-- 16593\n"
     ]
    }
   ],
   "source": [
    "%%bash\n",
    "curl -XPOST \"$ELASTICSEARCH_HOST:9200/nytimes/_search?search_type=count&pretty\" -d '\n",
    "{ \"aggs\": {\n",
    "    \"blog_terms\": {\n",
    "      \"terms\": { \"field\": \"blog_name\"  }\n",
    "    }\n",
    "  }\n",
    "}'"
   ]
  },
  {
   "cell_type": "markdown",
   "metadata": {},
   "source": [
    "### Query 5 : Query Articles Related to the Batman vs Superman Movie"
   ]
  },
  {
   "cell_type": "code",
   "execution_count": 8,
   "metadata": {
    "collapsed": false
   },
   "outputs": [
    {
     "name": "stdout",
     "output_type": "stream",
     "text": [
      "{\n",
      "  \"took\" : 2,\n",
      "  \"timed_out\" : false,\n",
      "  \"_shards\" : {\n",
      "    \"total\" : 5,\n",
      "    \"successful\" : 5,\n",
      "    \"failed\" : 0\n",
      "  },\n",
      "  \"hits\" : {\n",
      "    \"total\" : 14,\n",
      "    \"max_score\" : 4.3961687,\n",
      "    \"hits\" : [ {\n",
      "      \"_index\" : \"nytimes\",\n",
      "      \"_type\" : \"Article\",\n",
      "      \"_id\" : \"2244\",\n",
      "      \"_score\" : 4.3961687,\n",
      "      \"_source\":{\"title\":\"Review: ‘Batman v Superman’ ... v Fun?\",\"url\":\"http://www.nytimes.com/2016/03/25/movies/review-batman-v-superman-dawn-of-justice-when-super-friends-fight.html\"}\n",
      "    }, {\n",
      "      \"_index\" : \"nytimes\",\n",
      "      \"_type\" : \"Article\",\n",
      "      \"_id\" : \"1593\",\n",
      "      \"_score\" : 4.2483974,\n",
      "      \"_source\":{\"title\":\"Batman vs. Superman, by the Numbers\",\"url\":\"http://www.nytimes.com/2016/03/28/movies/batman-vs-superman-by-the-numbers.html\"}\n",
      "    }, {\n",
      "      \"_index\" : \"nytimes\",\n",
      "      \"_type\" : \"Article\",\n",
      "      \"_id\" : \"1877\",\n",
      "      \"_score\" : 4.2483974,\n",
      "      \"_source\":{\"title\":\"‘Batman v Superman’ Battles the Critics\",\"url\":\"http://www.nytimes.com/2016/03/26/movies/batman-v-superman-dawn-justice-reviews-critics.html\"}\n",
      "    }, {\n",
      "      \"_index\" : \"nytimes\",\n",
      "      \"_type\" : \"Article\",\n",
      "      \"_id\" : \"1577\",\n",
      "      \"_score\" : 3.9302058,\n",
      "      \"_source\":{\"title\":\"For ‘Batman v Superman,’ a Supersized Box Office\",\"url\":\"http://www.nytimes.com/2016/03/28/movies/for-batman-v-superman-a-supersized-box-office.html\"}\n",
      "    }, {\n",
      "      \"_index\" : \"nytimes\",\n",
      "      \"_type\" : \"Article\",\n",
      "      \"_id\" : \"443\",\n",
      "      \"_score\" : 3.5403311,\n",
      "      \"_source\":{\"title\":\"‘Batman v Superman’ Stumbles, but Stays at No. 1\",\"url\":\"http://www.nytimes.com/2016/04/04/arts/batman-v-superman-stumbles-but-stays-at-no-1.html\"}\n",
      "    }, {\n",
      "      \"_index\" : \"nytimes\",\n",
      "      \"_type\" : \"Article\",\n",
      "      \"_id\" : \"2613\",\n",
      "      \"_score\" : 3.215078,\n",
      "      \"_source\":{\"title\":\"Ben Affleck, Henry Cavill and Amy Adams at ‘Batman v Superman’ Party\",\"url\":\"http://www.nytimes.com/2016/03/21/fashion/ben-affleck-henry-cavill-and-amy-adams-at-batman-v-superman-party.html\"}\n",
      "    }, {\n",
      "      \"_index\" : \"nytimes\",\n",
      "      \"_type\" : \"Article\",\n",
      "      \"_id\" : \"2061\",\n",
      "      \"_score\" : 2.930779,\n",
      "      \"_source\":{\"title\":\"Ben Affleck, Henry Cavill and Amy Adams at ‘Batman v Superman’ Party\",\"url\":\"http://www.nytimes.com/2016/03/24/fashion/ben-affleck-henry-cavill-and-amy-adams-at-batman-v-superman-party.html\"}\n",
      "    }, {\n",
      "      \"_index\" : \"nytimes\",\n",
      "      \"_type\" : \"Slideshow\",\n",
      "      \"_id\" : \"127\",\n",
      "      \"_score\" : 2.930779,\n",
      "      \"_source\":{\"title\":\"Ben Affleck, Henry Cavill and Amy Adams at ‘Batman v Superman’ Party\",\"url\":\"http://www.nytimes.com/slideshow/2016/03/24/fashion/ben-affleck-henry-cavill-and-amy-adams-at-batman-v-superman-party.html\"}\n",
      "    }, {\n",
      "      \"_index\" : \"nytimes\",\n",
      "      \"_type\" : \"Blog\",\n",
      "      \"_id\" : \"3936\",\n",
      "      \"_score\" : 1.4755998,\n",
      "      \"_source\":{\"title\":\"It&#8217;s Superman!\",\"url\":\"http://wordplay.blogs.nytimes.com/2015/11/17/its-superman/\"}\n",
      "    }, {\n",
      "      \"_index\" : \"nytimes\",\n",
      "      \"_type\" : \"Article\",\n",
      "      \"_id\" : \"3950\",\n",
      "      \"_score\" : 1.3566651,\n",
      "      \"_source\":{\"title\":\"Ben Affleck’s ‘Broken’ Batman\",\"url\":\"http://www.nytimes.com/2016/03/20/movies/ben-affleck-batman-v-superman-dawn-of-justice-interview.html\"}\n",
      "    } ]\n",
      "  }\n",
      "}\n"
     ]
    },
    {
     "name": "stderr",
     "output_type": "stream",
     "text": [
      "  % Total    % Received % Xferd  Average Speed   Time    Time     Time  Current\n",
      "                                 Dload  Upload   Total   Spent    Left  Speed\n",
      "\r",
      "  0     0    0     0    0     0      0      0 --:--:-- --:--:-- --:--:--     0\r",
      "100  3325  100  3173  100   152  53573   2566 --:--:-- --:--:-- --:--:-- 53779\n"
     ]
    }
   ],
   "source": [
    "%%bash\n",
    "curl -XPOST \"$ELASTICSEARCH_HOST:9200/nytimes/_search?pretty\" -d '\n",
    "{ \"query\": { \n",
    "    \"query_string\": {\n",
    "        \"fields\": [\"title\"],\n",
    "        \"query\": \"batman superman\"\n",
    "     }\n",
    "  },\n",
    "  \"_source\": [\"_id\", \"url\", \"title\"] \n",
    "}'"
   ]
  }
 ],
 "metadata": {
  "kernelspec": {
   "display_name": "Python 2",
   "language": "python",
   "name": "python2"
  },
  "language_info": {
   "codemirror_mode": {
    "name": "ipython",
    "version": 2
   },
   "file_extension": ".py",
   "mimetype": "text/x-python",
   "name": "python",
   "nbconvert_exporter": "python",
   "pygments_lexer": "ipython2",
   "version": "2.7.11"
  }
 },
 "nbformat": 4,
 "nbformat_minor": 0
}
